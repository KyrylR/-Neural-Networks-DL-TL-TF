{
  "nbformat": 4,
  "nbformat_minor": 0,
  "metadata": {
    "colab": {
      "name": "dog-vision.ipynb",
      "provenance": [],
      "mount_file_id": "1a3bdNHZOa12124UQb4W6vG2G3rWIGjM6",
      "authorship_tag": "ABX9TyM8ZK6+MdhsIcFsR0m7zELU",
      "include_colab_link": true
    },
    "kernelspec": {
      "name": "python3",
      "display_name": "Python 3"
    },
    "language_info": {
      "name": "python"
    }
  },
  "cells": [
    {
      "cell_type": "markdown",
      "metadata": {
        "id": "view-in-github",
        "colab_type": "text"
      },
      "source": [
        "<a href=\"https://colab.research.google.com/github/KyrylR/Neural-Networks-DL-TL-TF/blob/main/dog_vision.ipynb\" target=\"_parent\"><img src=\"https://colab.research.google.com/assets/colab-badge.svg\" alt=\"Open In Colab\"/></a>"
      ]
    },
    {
      "cell_type": "markdown",
      "source": [
        "# End-to-end Multil-class Dog Breed Classification\n",
        "\n",
        "This notebook builds an end-to-end multi-class image classifier using TensorFlow 2.x and TensorFlow Hub.\n",
        "\n",
        "## 1. Problem\n",
        "\n",
        "Identifying the breed of a dog given an image of a dog.\n",
        "\n",
        "When I'm sitting at the cafe and I take a photo of a dog, I want to know what breed of dog it is.\n",
        "\n",
        "## 2. Data\n",
        "\n",
        "The data we're using is from Kaggle's dog breed identification competition.\n",
        "\n",
        "https://www.kaggle.com/c/dog-breed-identification/data \n",
        "\n",
        "## 3. Evaluation\n",
        "\n",
        "The evaluation is a file with prediction probabilities for each dog breed of each test image.\n",
        "\n",
        "https://www.kaggle.com/c/dog-breed-identification/overview/evaluation\n",
        "\n",
        "## 4. Features\n",
        "\n",
        "Some information about the data:\n",
        "* We're dealing with images (unstructured data) so it's probably best we use deep learning/transfer learning.\n",
        "* There are 120 breeds of dogs (this means there are 120 different classes).\n",
        "* There are around 10,000+ images in the training set (these images have labels).\n",
        "* There are around 10,000+ images in the test set (these images have no labels, because we'll want to predict them)."
      ],
      "metadata": {
        "id": "FdMWx2MXnqmo"
      }
    },
    {
      "cell_type": "code",
      "execution_count": 1,
      "metadata": {
        "id": "-7E5pbRUmY53"
      },
      "outputs": [],
      "source": [
        "import pandas as pd\n",
        "import numpy as np"
      ]
    },
    {
      "cell_type": "code",
      "source": [
        ""
      ],
      "metadata": {
        "id": "pj856xOfnkX_"
      },
      "execution_count": null,
      "outputs": []
    }
  ]
}